{
 "cells": [
  {
   "cell_type": "code",
   "execution_count": 62,
   "metadata": {},
   "outputs": [],
   "source": [
    "import pandas as pd\n",
    "import datetime \n",
    "import time\n",
    "import re\n",
    "import configparser\n",
    "\n",
    "cfg = configparser.RawConfigParser()\n",
    "cfg.read('../../pass_projects/pass.ini')\n",
    "\n",
    "u_padel= cfg['padel']['username']\n",
    "p_padel= cfg['padel']['password']\n",
    "\n",
    "\n"
   ]
  },
  {
   "cell_type": "code",
   "execution_count": 63,
   "metadata": {},
   "outputs": [
    {
     "name": "stderr",
     "output_type": "stream",
     "text": [
      "[WDM] - ====== WebDriver manager ======\n",
      "[WDM] - Driver [/home/carpiero/.wdm/drivers/geckodriver/linux64/v0.29.1/geckodriver] found in cache\n"
     ]
    },
    {
     "name": "stdout",
     "output_type": "stream",
     "text": [
      "\n",
      "\n"
     ]
    }
   ],
   "source": [
    "from selenium import webdriver\n",
    "from selenium.webdriver.common.keys import Keys\n",
    "from webdriver_manager.firefox import GeckoDriverManager\n",
    "from selenium.webdriver.firefox.options import Options\n",
    "from selenium.common.exceptions import ElementClickInterceptedException\n",
    "from selenium.webdriver.support import expected_conditions as EC\n",
    "from selenium.webdriver.support.ui import WebDriverWait\n",
    "from selenium.webdriver.common.by import By\n",
    "\n",
    "options = Options()\n",
    "options.add_argument('--headless')\n",
    "\n",
    "driver = webdriver.Firefox(executable_path=GeckoDriverManager().install(),options=options)\n",
    "\n",
    "\n"
   ]
  },
  {
   "cell_type": "code",
   "execution_count": null,
   "metadata": {},
   "outputs": [],
   "source": []
  },
  {
   "cell_type": "code",
   "execution_count": 64,
   "metadata": {},
   "outputs": [],
   "source": [
    "# driver.get('https://centrodeportivosmp.matchpoint.com.es/Login.aspx')"
   ]
  },
  {
   "cell_type": "code",
   "execution_count": 120,
   "metadata": {},
   "outputs": [],
   "source": [
    "\n",
    "# time.sleep(1)\n",
    "\n",
    "driver.get('https://www.centrodeportivosmp.es/')\n",
    "\n",
    "padel_button =driver.find_element_by_xpath('//*[@id=\"top-menu\"]/li[6]')\n",
    "padel_button.click()\n",
    "padel_button = driver.find_element_by_xpath('//*[@id=\"top-menu\"]/li[6]/ul/li[1]')\n",
    "\n",
    "padel_button.click()\n",
    "\n",
    "user_input = driver.find_element_by_id('ctl00_ContentPlaceHolderContenido_Login1_UserName')\n",
    "user_input.send_keys(u_padel)\n",
    "\n",
    "pass_input = driver.find_element_by_id('ctl00_ContentPlaceHolderContenido_Login1_Password')\n",
    "pass_input.send_keys(p_padel)\n",
    "\n",
    "enter_button = driver.find_element_by_id('ctl00_ContentPlaceHolderContenido_Login1_LoginButton')\n",
    "\n",
    "enter_button.click()\n",
    "\n",
    "rev_button = driver.find_element_by_id('ctl00_ctl00_ContentPlaceHolderContenido_WUCMenuLateralIzquierdaIntranet_LabelMenuReservasBuscador')\n",
    "rev_button.click()\n",
    "\n",
    "\n",
    "# print(enter_button.get_property(\"value\"))\n",
    "# print(pass_input.get_property(\"placeholder\"))\n"
   ]
  },
  {
   "cell_type": "code",
   "execution_count": 121,
   "metadata": {},
   "outputs": [
    {
     "name": "stdout",
     "output_type": "stream",
     "text": [
      "Lunes, 12 Abril, 2021\n",
      "Lunes, 19 Abril, 2021\n",
      "Lunes, 19 Abril, 2021\n",
      "Portal - Reservas - Horario Reservas\n",
      "Mon Apr 19 2021 22:22:00 GMT+0200 (Central European Summer Time)\n"
     ]
    }
   ],
   "source": [
    "fecha=driver.find_element_by_id('fechaTabla')\n",
    "\n",
    "manana = driver.find_element_by_xpath('//*[@id=\"tablaReserva\"]/div[2]/div[2]/div[1]/div[3]/input[3]')\n",
    "\n",
    "print(fecha.get_property(\"value\"))\n",
    "manana.click()\n",
    "manana.click()\n",
    "manana.click()\n",
    "manana.click()\n",
    "manana.click()\n",
    "manana.click()\n",
    "manana.click()\n",
    "#quitar esto para probra\n",
    "print(fecha.get_property(\"value\"))\n",
    "\n",
    "while 'lunes' not in fecha.get_property(\"value\").lower():\n",
    "    time.sleep(5)\n",
    "    manana.click()\n",
    "\n",
    "\n",
    "\n",
    "print(fecha.get_property(\"value\"))\n",
    "print(driver.title)\n",
    "reser=driver.find_element_by_id('CuerpoTabla')\n",
    "\n",
    "print(reser.get_attribute(\"time\"))\n"
   ]
  },
  {
   "cell_type": "code",
   "execution_count": 124,
   "metadata": {},
   "outputs": [],
   "source": [
    "reser=driver.find_elements_by_class_name('subDivision.plantilla.buttonHora')\n",
    "\n",
    "h1='18:00'\n",
    "h2='18:30'\n",
    "# pista_h1=[]\n",
    "\n",
    "# x.get_attribute(\"columna\")== '4'\n",
    "\n",
    "# for x in reser:\n",
    "#     if x.get_attribute(\"time\")== h1:\n",
    "#             pista_h1.append(x)\n",
    "            \n",
    "# for x in reser:\n",
    "#     if x.get_attribute(\"time\")== h2:\n",
    "#             pista_h1.append(x)\n",
    "            \n",
    "# pista_h1=[ x for x in reser if x.get_attribute(\"time\")== h1 or x.get_attribute(\"time\")== h2]\n",
    "\n",
    "\n",
    "\n",
    "pista_h1=list(filter(lambda x: x.get_attribute(\"time\")== h1 or x.get_attribute(\"time\")== h2, reser))\n",
    "     \n",
    " "
   ]
  },
  {
   "cell_type": "code",
   "execution_count": 125,
   "metadata": {},
   "outputs": [
    {
     "name": "stdout",
     "output_type": "stream",
     "text": [
      "18:00 1\n",
      "18:00 2\n",
      "18:00 3\n",
      "18:30 3\n",
      "18:30 2\n",
      "18:30 1\n",
      "18:00 4\n",
      "18:00 5\n",
      "18:00 6\n",
      "18:30 4\n",
      "18:30 5\n",
      "18:30 6\n"
     ]
    }
   ],
   "source": [
    "pista_h1.insert(11, pista_h1.pop(7))\n",
    "pista_h1.insert(11, pista_h1.pop(8))\n",
    "pista_h1.insert(11, pista_h1.pop(9))\n",
    "\n",
    "pista_h1.insert(5, pista_h1.pop(1))\n",
    "pista_h1.insert(4, pista_h1.pop(2))\n",
    "\n",
    "\n",
    "\n",
    "for x in pista_h1:\n",
    "    print(f'{x.get_attribute(\"time\")} {x.get_attribute(\"columna\")}')\n",
    "    \n",
    "  "
   ]
  },
  {
   "cell_type": "code",
   "execution_count": 8,
   "metadata": {},
   "outputs": [
    {
     "name": "stdout",
     "output_type": "stream",
     "text": [
      "ERROR\n",
      "pista ocupada 18:00 4\n",
      "\n",
      "FINAL\n",
      "ERROR\n",
      "pista ocupada 18:00 5\n",
      "\n",
      "FINAL\n",
      "ERROR\n",
      "pista ocupada 18:00 6\n",
      "\n",
      "FINAL\n",
      "ERROR\n",
      "pista ocupada 18:00 1\n",
      "\n",
      "FINAL\n",
      "ERROR\n",
      "pista ocupada 18:00 2\n",
      "\n",
      "FINAL\n",
      "60' Internet\n",
      "\n",
      "FINAL\n",
      "Padel 3 Cubierta Pádel Césped Azul (Cubierta). Pádel Césped Azul (Cubierta)\n",
      "18:00-19:00\n",
      "19/04/2021\n",
      "€ 17,00\n"
     ]
    }
   ],
   "source": [
    "for x in pista_h1:\n",
    "    try:\n",
    "        WebDriverWait(driver, 10).until(EC.element_to_be_clickable((By.ID, 'CuerpoTabla')))\n",
    "        x.click()\n",
    "        opt=driver.find_elements_by_class_name('btnTiempo')\n",
    "        opt_text=driver.find_elements_by_class_name('buttonHoraTxt')\n",
    "        WebDriverWait(driver, 10).until(EC.element_to_be_clickable((By.ID, 'reserva')))\n",
    "        print(opt_text[0].text)\n",
    "        if opt_text[0].text == 'Cerrar' :\n",
    "            opt[0].click()\n",
    "            print(f'{x.get_attribute(\"time\")} {x.get_attribute(\"columna\")}')\n",
    "        else:\n",
    "            driver.find_element_by_id('terminos').click()\n",
    "            opt[0].click()\n",
    "            break\n",
    "    except ElementClickInterceptedException: \n",
    "        pass\n",
    "        print('ERROR')\n",
    "        print(f'pista ocupada {x.get_attribute(\"time\")} {x.get_attribute(\"columna\")}')\n",
    "            \n",
    "\n",
    "    finally:  # ejecutar siempre\n",
    "        print(f'\\nFINAL')    \n",
    "\n",
    "\n",
    "print(driver.find_element_by_id('ctl00_ContentPlaceHolderContenido_LabelEspacio').text)\n",
    "print(driver.find_element_by_id('ctl00_ContentPlaceHolderContenido_LabelHorario').text)\n",
    "print(driver.find_element_by_id('ctl00_ContentPlaceHolderContenido_LabelFecha').text)\n",
    "print(driver.find_element_by_id('ctl00_ContentPlaceHolderContenido_LabelPrecio').text)"
   ]
  },
  {
   "cell_type": "code",
   "execution_count": null,
   "metadata": {},
   "outputs": [],
   "source": [
    "\n",
    "driver.find_element_by_id('ctl00_ContentPlaceHolderContenido_CheckBoxAceptoCondicionesLegales').click()\n",
    "driver.find_element_by_id('ctl00$ContentPlaceHolderContenido$ButtonPagoSaldo').click()\n"
   ]
  },
  {
   "cell_type": "code",
   "execution_count": 12,
   "metadata": {},
   "outputs": [],
   "source": [
    "o=datetime.datetime.now()"
   ]
  },
  {
   "cell_type": "code",
   "execution_count": 33,
   "metadata": {},
   "outputs": [
    {
     "data": {
      "text/plain": [
       "datetime.timedelta(seconds=630, microseconds=922354)"
      ]
     },
     "execution_count": 33,
     "metadata": {},
     "output_type": "execute_result"
    }
   ],
   "source": [
    "j=datetime.datetime.now()-o\n",
    "j"
   ]
  },
  {
   "cell_type": "code",
   "execution_count": 52,
   "metadata": {},
   "outputs": [],
   "source": [
    "def min_seconds(td):\n",
    "    minutes = divmod(j.seconds, 60)    \n",
    "    return f'Time:\\n{minutes[0]} minutes, {minutes[1]} seconds'"
   ]
  },
  {
   "cell_type": "code",
   "execution_count": 53,
   "metadata": {},
   "outputs": [
    {
     "data": {
      "text/plain": [
       "(0, 0, 10)"
      ]
     },
     "execution_count": 53,
     "metadata": {},
     "output_type": "execute_result"
    }
   ],
   "source": [
    "days_hours_minutes(j)"
   ]
  },
  {
   "cell_type": "code",
   "execution_count": 54,
   "metadata": {},
   "outputs": [
    {
     "name": "stdout",
     "output_type": "stream",
     "text": [
      "Time:\n",
      "10 minutes, 30 seconds\n"
     ]
    }
   ],
   "source": [
    "print(min_seconds(j))"
   ]
  },
  {
   "cell_type": "code",
   "execution_count": null,
   "metadata": {},
   "outputs": [],
   "source": []
  }
 ],
 "metadata": {
  "kernelspec": {
   "display_name": "Python [conda env:sentiment_env]",
   "language": "python",
   "name": "conda-env-sentiment_env-py"
  },
  "language_info": {
   "codemirror_mode": {
    "name": "ipython",
    "version": 3
   },
   "file_extension": ".py",
   "mimetype": "text/x-python",
   "name": "python",
   "nbconvert_exporter": "python",
   "pygments_lexer": "ipython3",
   "version": "3.7.9"
  }
 },
 "nbformat": 4,
 "nbformat_minor": 4
}
