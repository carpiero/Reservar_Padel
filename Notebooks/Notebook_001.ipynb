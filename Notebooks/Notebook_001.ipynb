{
 "cells": [
  {
   "cell_type": "code",
   "execution_count": 1,
   "metadata": {},
   "outputs": [],
   "source": [
    "import tweepy\n",
    "import pandas as pd\n",
    "import datetime \n",
    "\n",
    "import configparser\n",
    "cfg = configparser.RawConfigParser()\n",
    "cfg.read('../../pass_projects/pass.ini')\n",
    "\n",
    "u_padel= cfg['padel']['username']\n",
    "p_padel= cfg['padel']['password']\n",
    "\n",
    "\n"
   ]
  },
  {
   "cell_type": "code",
   "execution_count": 2,
   "metadata": {},
   "outputs": [
    {
     "name": "stderr",
     "output_type": "stream",
     "text": [
      "[WDM] - ====== WebDriver manager ======\n",
      "[WDM] - Driver [/home/carpiero/.wdm/drivers/geckodriver/linux64/v0.29.0/geckodriver] found in cache\n"
     ]
    },
    {
     "name": "stdout",
     "output_type": "stream",
     "text": [
      "\n",
      "\n"
     ]
    }
   ],
   "source": [
    "from selenium import webdriver\n",
    "from selenium.webdriver.common.keys import Keys\n",
    "from webdriver_manager.firefox import GeckoDriverManager\n",
    "from selenium.webdriver.firefox.options import Options\n",
    "\n",
    "options = Options()\n",
    "options.add_argument('--headless')\n",
    "\n",
    "driver = webdriver.Firefox(executable_path=GeckoDriverManager().install(),options=options)\n",
    "\n",
    "\n"
   ]
  },
  {
   "cell_type": "code",
   "execution_count": null,
   "metadata": {},
   "outputs": [],
   "source": []
  },
  {
   "cell_type": "code",
   "execution_count": 3,
   "metadata": {},
   "outputs": [],
   "source": [
    "# driver.get('https://centrodeportivosmp.matchpoint.com.es/Login.aspx')"
   ]
  },
  {
   "cell_type": "code",
   "execution_count": 23,
   "metadata": {},
   "outputs": [],
   "source": [
    "# import time\n",
    "# time.sleep(1)\n",
    "\n",
    "driver.get('https://www.centrodeportivosmp.es/')\n",
    "\n",
    "padel_button =driver.find_element_by_xpath('//*[@id=\"top-menu\"]/li[6]')\n",
    "padel_button.click()\n",
    "padel_button = driver.find_element_by_xpath('//*[@id=\"top-menu\"]/li[6]/ul/li[1]')\n",
    "\n",
    "padel_button.click()\n",
    "\n",
    "user_input = driver.find_element_by_id('ctl00_ContentPlaceHolderContenido_Login1_UserName')\n",
    "user_input.send_keys(u_padel)\n",
    "\n",
    "pass_input = driver.find_element_by_id('ctl00_ContentPlaceHolderContenido_Login1_Password')\n",
    "pass_input.send_keys(p_padel)\n",
    "\n",
    "enter_button = driver.find_element_by_id('ctl00_ContentPlaceHolderContenido_Login1_LoginButton')\n",
    "\n",
    "enter_button.click()\n",
    "\n",
    "\n",
    "\n",
    "# print(enter_button.get_property(\"value\"))\n",
    "# print(pass_input.get_property(\"placeholder\"))\n"
   ]
  },
  {
   "cell_type": "code",
   "execution_count": 24,
   "metadata": {},
   "outputs": [],
   "source": [
    "rev_button = driver.find_element_by_id('ctl00_ctl00_ContentPlaceHolderContenido_WUCMenuLateralIzquierdaIntranet_LabelMenuReservasBuscador')\n",
    "rev_button.click()\n",
    "\n",
    "\n",
    "\n"
   ]
  },
  {
   "cell_type": "code",
   "execution_count": 25,
   "metadata": {},
   "outputs": [
    {
     "name": "stdout",
     "output_type": "stream",
     "text": [
      "Martes, 6 Abril, 2021\n",
      "Martes, 13 Abril, 2021\n"
     ]
    }
   ],
   "source": [
    "fecha=driver.find_element_by_id('fechaTabla')\n",
    "\n",
    "manana = driver.find_element_by_xpath('//*[@id=\"tablaReserva\"]/div[2]/div[2]/div[1]/div[3]/input[3]')\n",
    "\n",
    "print(fecha.get_property(\"value\"))\n",
    "manana.click()\n",
    "manana.click()\n",
    "manana.click()\n",
    "manana.click()\n",
    "manana.click()\n",
    "manana.click()\n",
    "manana.click()\n",
    "print(fecha.get_property(\"value\"))"
   ]
  },
  {
   "cell_type": "code",
   "execution_count": null,
   "metadata": {},
   "outputs": [],
   "source": [
    "//*[@id=\"CuerpoTabla\"]/g[12]/g[4]/rect[3]\n",
    "\n",
    "//*[@id=\"CuerpoTabla\"]/g[12]/g[5]/rect[3]"
   ]
  },
  {
   "cell_type": "code",
   "execution_count": null,
   "metadata": {},
   "outputs": [],
   "source": []
  },
  {
   "cell_type": "code",
   "execution_count": 44,
   "metadata": {},
   "outputs": [
    {
     "name": "stdout",
     "output_type": "stream",
     "text": [
      "Portal - Reservas - Horario Reservas\n"
     ]
    }
   ],
   "source": [
    "print(driver.title)"
   ]
  },
  {
   "cell_type": "code",
   "execution_count": null,
   "metadata": {},
   "outputs": [],
   "source": []
  },
  {
   "cell_type": "code",
   "execution_count": null,
   "metadata": {},
   "outputs": [],
   "source": []
  },
  {
   "cell_type": "code",
   "execution_count": null,
   "metadata": {},
   "outputs": [],
   "source": []
  },
  {
   "cell_type": "code",
   "execution_count": null,
   "metadata": {},
   "outputs": [],
   "source": []
  }
 ],
 "metadata": {
  "kernelspec": {
   "display_name": "Python [conda env:sentiment_env]",
   "language": "python",
   "name": "conda-env-sentiment_env-py"
  },
  "language_info": {
   "codemirror_mode": {
    "name": "ipython",
    "version": 3
   },
   "file_extension": ".py",
   "mimetype": "text/x-python",
   "name": "python",
   "nbconvert_exporter": "python",
   "pygments_lexer": "ipython3",
   "version": "3.7.9"
  }
 },
 "nbformat": 4,
 "nbformat_minor": 4
}
