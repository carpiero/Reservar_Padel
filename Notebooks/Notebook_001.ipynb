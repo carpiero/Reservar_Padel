{
 "cells": [
  {
   "cell_type": "code",
   "execution_count": 99,
   "metadata": {},
   "outputs": [],
   "source": [
    "import tweepy\n",
    "import pandas as pd\n",
    "import datetime \n",
    "import time\n",
    "import re\n",
    "\n",
    "\n",
    "import configparser\n",
    "cfg = configparser.RawConfigParser()\n",
    "cfg.read('../../pass_projects/pass.ini')\n",
    "\n",
    "u_padel= cfg['padel']['username']\n",
    "p_padel= cfg['padel']['password']\n",
    "\n",
    "\n"
   ]
  },
  {
   "cell_type": "code",
   "execution_count": 109,
   "metadata": {},
   "outputs": [
    {
     "name": "stderr",
     "output_type": "stream",
     "text": [
      "[WDM] - ====== WebDriver manager ======\n",
      "[WDM] - Driver [/home/carpiero/.wdm/drivers/geckodriver/linux64/v0.29.1/geckodriver] found in cache\n"
     ]
    },
    {
     "name": "stdout",
     "output_type": "stream",
     "text": [
      "\n",
      "\n"
     ]
    }
   ],
   "source": [
    "from selenium import webdriver\n",
    "from selenium.webdriver.common.keys import Keys\n",
    "from webdriver_manager.firefox import GeckoDriverManager\n",
    "from selenium.webdriver.firefox.options import Options\n",
    "from selenium.common.exceptions import ElementClickInterceptedException\n",
    "from selenium.webdriver.support import expected_conditions as EC\n",
    "from selenium.webdriver.support.ui import WebDriverWait\n",
    "from selenium.webdriver.common.by import By\n",
    "\n",
    "options = Options()\n",
    "options.add_argument('--headless')\n",
    "\n",
    "driver = webdriver.Firefox(executable_path=GeckoDriverManager().install(),options=options)\n",
    "\n",
    "\n"
   ]
  },
  {
   "cell_type": "code",
   "execution_count": null,
   "metadata": {},
   "outputs": [],
   "source": []
  },
  {
   "cell_type": "code",
   "execution_count": 110,
   "metadata": {},
   "outputs": [],
   "source": [
    "# driver.get('https://centrodeportivosmp.matchpoint.com.es/Login.aspx')"
   ]
  },
  {
   "cell_type": "code",
   "execution_count": 201,
   "metadata": {},
   "outputs": [],
   "source": [
    "\n",
    "# time.sleep(1)\n",
    "\n",
    "driver.get('https://www.centrodeportivosmp.es/')\n",
    "\n",
    "padel_button =driver.find_element_by_xpath('//*[@id=\"top-menu\"]/li[6]')\n",
    "padel_button.click()\n",
    "padel_button = driver.find_element_by_xpath('//*[@id=\"top-menu\"]/li[6]/ul/li[1]')\n",
    "\n",
    "padel_button.click()\n",
    "\n",
    "user_input = driver.find_element_by_id('ctl00_ContentPlaceHolderContenido_Login1_UserName')\n",
    "user_input.send_keys(u_padel)\n",
    "\n",
    "pass_input = driver.find_element_by_id('ctl00_ContentPlaceHolderContenido_Login1_Password')\n",
    "pass_input.send_keys(p_padel)\n",
    "\n",
    "enter_button = driver.find_element_by_id('ctl00_ContentPlaceHolderContenido_Login1_LoginButton')\n",
    "\n",
    "enter_button.click()\n",
    "\n",
    "rev_button = driver.find_element_by_id('ctl00_ctl00_ContentPlaceHolderContenido_WUCMenuLateralIzquierdaIntranet_LabelMenuReservasBuscador')\n",
    "rev_button.click()\n",
    "\n",
    "\n",
    "# print(enter_button.get_property(\"value\"))\n",
    "# print(pass_input.get_property(\"placeholder\"))\n"
   ]
  },
  {
   "cell_type": "code",
   "execution_count": 202,
   "metadata": {},
   "outputs": [
    {
     "name": "stdout",
     "output_type": "stream",
     "text": [
      "Sábado, 10 Abril, 2021\n",
      "Martes, 13 Abril, 2021\n",
      "Viernes, 16 Abril, 2021\n",
      "Portal - Reservas - Horario Reservas\n",
      "Fri Apr 16 2021 13:11:00 GMT+0200 (Central European Summer Time)\n"
     ]
    },
    {
     "ename": "AttributeError",
     "evalue": "'FirefoxWebElement' object has no attribute 'title'",
     "output_type": "error",
     "traceback": [
      "\u001b[0;31m---------------------------------------------------------------------------\u001b[0m",
      "\u001b[0;31mAttributeError\u001b[0m                            Traceback (most recent call last)",
      "\u001b[0;32m<ipython-input-202-56dbbc6b4f19>\u001b[0m in \u001b[0;36m<module>\u001b[0;34m\u001b[0m\n\u001b[1;32m     25\u001b[0m \u001b[0;34m\u001b[0m\u001b[0m\n\u001b[1;32m     26\u001b[0m \u001b[0mprint\u001b[0m\u001b[0;34m(\u001b[0m\u001b[0mreser\u001b[0m\u001b[0;34m.\u001b[0m\u001b[0mget_attribute\u001b[0m\u001b[0;34m(\u001b[0m\u001b[0;34m\"time\"\u001b[0m\u001b[0;34m)\u001b[0m\u001b[0;34m)\u001b[0m\u001b[0;34m\u001b[0m\u001b[0;34m\u001b[0m\u001b[0m\n\u001b[0;32m---> 27\u001b[0;31m \u001b[0mfecha\u001b[0m\u001b[0;34m.\u001b[0m\u001b[0mtitle\u001b[0m\u001b[0;34m\u001b[0m\u001b[0;34m\u001b[0m\u001b[0m\n\u001b[0m",
      "\u001b[0;31mAttributeError\u001b[0m: 'FirefoxWebElement' object has no attribute 'title'"
     ]
    }
   ],
   "source": [
    "fecha=driver.find_element_by_id('fechaTabla')\n",
    "\n",
    "manana = driver.find_element_by_xpath('//*[@id=\"tablaReserva\"]/div[2]/div[2]/div[1]/div[3]/input[3]')\n",
    "\n",
    "print(fecha.get_property(\"value\"))\n",
    "manana.click()\n",
    "manana.click()\n",
    "manana.click()\n",
    "# manana.click()\n",
    "# manana.click()\n",
    "# manana.click()\n",
    "# manana.click()\n",
    "#quitar esto para probra\n",
    "print(fecha.get_property(\"value\"))\n",
    "\n",
    "while 'viernes' not in fecha.get_property(\"value\").lower():\n",
    "    time.sleep(5)\n",
    "    manana.click()\n",
    "\n",
    "\n",
    "\n",
    "print(fecha.get_property(\"value\"))\n",
    "print(driver.title)\n",
    "reser=driver.find_element_by_id('CuerpoTabla')\n",
    "\n",
    "print(reser.get_attribute(\"time\"))\n"
   ]
  },
  {
   "cell_type": "code",
   "execution_count": 193,
   "metadata": {},
   "outputs": [],
   "source": [
    "reser=driver.find_elements_by_class_name('subDivision.plantilla.buttonHora')\n",
    "\n",
    "h1='10:00'\n",
    "h2='10:30'\n",
    "pista_h1=[]\n",
    "pista_h2=[]\n",
    "# x.get_attribute(\"columna\")== '4'\n",
    "\n",
    "for x in reser:\n",
    "    if x.get_attribute(\"time\")== h1:\n",
    "            pista_h1.append(x)\n",
    "            \n",
    "for x in reser:\n",
    "    if x.get_attribute(\"time\")== h2:\n",
    "            pista_h1.append(x)\n",
    "     \n",
    " "
   ]
  },
  {
   "cell_type": "code",
   "execution_count": 194,
   "metadata": {},
   "outputs": [
    {
     "name": "stdout",
     "output_type": "stream",
     "text": [
      "10:00 4\n",
      "10:00 5\n",
      "10:00 6\n",
      "10:00 1\n",
      "10:00 2\n",
      "10:00 3\n",
      "10:30 4\n",
      "10:30 5\n",
      "10:30 6\n",
      "10:30 1\n",
      "10:30 2\n",
      "10:30 3\n"
     ]
    }
   ],
   "source": [
    "pista_h1.insert(0, pista_h1.pop(3))\n",
    "pista_h1.insert(1, pista_h1.pop(4))\n",
    "pista_h1.insert(2, pista_h1.pop(5))\n",
    "\n",
    "pista_h1.insert(6, pista_h1.pop(9))\n",
    "pista_h1.insert(7, pista_h1.pop(10))\n",
    "pista_h1.insert(8, pista_h1.pop(11))\n",
    "\n",
    "\n",
    "for x in pista_h1:\n",
    "    print(f'{x.get_attribute(\"time\")} {x.get_attribute(\"columna\")}')\n",
    "    \n",
    "  "
   ]
  },
  {
   "cell_type": "code",
   "execution_count": 190,
   "metadata": {},
   "outputs": [
    {
     "name": "stdout",
     "output_type": "stream",
     "text": [
      "ERROR\n",
      "pista ocupada 10:00 1\n",
      "\n",
      "FINAL\n",
      "ERROR\n",
      "pista ocupada 10:00 2\n",
      "\n",
      "FINAL\n",
      "ERROR\n",
      "pista ocupada 10:00 3\n",
      "\n",
      "FINAL\n",
      "ERROR\n",
      "pista ocupada 10:00 4\n",
      "\n",
      "FINAL\n",
      "ERROR\n",
      "pista ocupada 10:00 5\n",
      "\n",
      "FINAL\n",
      "60' Internet\n",
      "\n",
      "FINAL\n",
      "Padel 6 Descubierta Pádel Césped Verde. Pádel Césped Verde\n",
      "10:00-11:00\n",
      "16/04/2021\n",
      "€ 6,00\n"
     ]
    }
   ],
   "source": [
    "for x in pista_h1:\n",
    "    try:\n",
    "        WebDriverWait(driver, 10).until(EC.element_to_be_clickable((By.ID, 'CuerpoTabla')))\n",
    "        x.click()\n",
    "        opt=driver.find_elements_by_class_name('btnTiempo')\n",
    "        opt_text=driver.find_elements_by_class_name('buttonHoraTxt')\n",
    "        WebDriverWait(driver, 10).until(EC.element_to_be_clickable((By.ID, 'reserva')))\n",
    "        print(opt_text[0].text)\n",
    "        if opt_text[0].text == 'Cerrar' :\n",
    "            opt[0].click()\n",
    "            print(f'{x.get_attribute(\"time\")} {x.get_attribute(\"columna\")}')\n",
    "        else:\n",
    "            driver.find_element_by_id('terminos').click()\n",
    "            opt[0].click()\n",
    "            break\n",
    "    except ElementClickInterceptedException: \n",
    "        pass\n",
    "        print('ERROR')\n",
    "        print(f'pista ocupada {x.get_attribute(\"time\")} {x.get_attribute(\"columna\")}')\n",
    "            \n",
    "\n",
    "    finally:  # ejecutar siempre\n",
    "        print(f'\\nFINAL')    \n",
    "\n",
    "\n",
    "print(driver.find_element_by_id('ctl00_ContentPlaceHolderContenido_LabelEspacio').text)\n",
    "print(driver.find_element_by_id('ctl00_ContentPlaceHolderContenido_LabelHorario').text)\n",
    "print(driver.find_element_by_id('ctl00_ContentPlaceHolderContenido_LabelFecha').text)\n",
    "print(driver.find_element_by_id('ctl00_ContentPlaceHolderContenido_LabelPrecio').text)"
   ]
  },
  {
   "cell_type": "code",
   "execution_count": null,
   "metadata": {},
   "outputs": [],
   "source": [
    "\n",
    "driver.find_element_by_id('ctl00_ContentPlaceHolderContenido_CheckBoxAceptoCondicionesLegales').click()\n",
    "driver.find_element_by_id('ctl00$ContentPlaceHolderContenido$ButtonPagoSaldo').click()\n"
   ]
  },
  {
   "cell_type": "code",
   "execution_count": null,
   "metadata": {},
   "outputs": [],
   "source": []
  },
  {
   "cell_type": "code",
   "execution_count": null,
   "metadata": {},
   "outputs": [],
   "source": []
  },
  {
   "cell_type": "code",
   "execution_count": null,
   "metadata": {},
   "outputs": [],
   "source": []
  }
 ],
 "metadata": {
  "kernelspec": {
   "display_name": "Python [conda env:sentiment_env]",
   "language": "python",
   "name": "conda-env-sentiment_env-py"
  },
  "language_info": {
   "codemirror_mode": {
    "name": "ipython",
    "version": 3
   },
   "file_extension": ".py",
   "mimetype": "text/x-python",
   "name": "python",
   "nbconvert_exporter": "python",
   "pygments_lexer": "ipython3",
   "version": "3.7.9"
  }
 },
 "nbformat": 4,
 "nbformat_minor": 4
}
