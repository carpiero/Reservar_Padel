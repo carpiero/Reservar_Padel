{
 "cells": [
  {
   "cell_type": "code",
   "execution_count": 1,
   "metadata": {},
   "outputs": [],
   "source": [
    "import tweepy\n",
    "import pandas as pd\n",
    "import datetime \n",
    "import time\n",
    "import re\n",
    "\n",
    "\n",
    "import configparser\n",
    "cfg = configparser.RawConfigParser()\n",
    "cfg.read('../../pass_projects/pass.ini')\n",
    "\n",
    "u_padel= cfg['padel']['username']\n",
    "p_padel= cfg['padel']['password']\n",
    "\n",
    "\n"
   ]
  },
  {
   "cell_type": "code",
   "execution_count": 39,
   "metadata": {},
   "outputs": [
    {
     "name": "stderr",
     "output_type": "stream",
     "text": [
      "[WDM] - ====== WebDriver manager ======\n",
      "[WDM] - Driver [/home/carpiero/.wdm/drivers/geckodriver/linux64/v0.29.1/geckodriver] found in cache\n"
     ]
    },
    {
     "name": "stdout",
     "output_type": "stream",
     "text": [
      "\n",
      "\n"
     ]
    }
   ],
   "source": [
    "from selenium import webdriver\n",
    "from selenium.webdriver.common.keys import Keys\n",
    "from webdriver_manager.firefox import GeckoDriverManager\n",
    "from selenium.webdriver.firefox.options import Options\n",
    "from selenium.common.exceptions import ElementClickInterceptedException\n",
    "\n",
    "options = Options()\n",
    "options.add_argument('--headless')\n",
    "\n",
    "driver = webdriver.Firefox(executable_path=GeckoDriverManager().install(),options=options)\n",
    "\n",
    "\n"
   ]
  },
  {
   "cell_type": "code",
   "execution_count": null,
   "metadata": {},
   "outputs": [],
   "source": []
  },
  {
   "cell_type": "code",
   "execution_count": 40,
   "metadata": {},
   "outputs": [],
   "source": [
    "# driver.get('https://centrodeportivosmp.matchpoint.com.es/Login.aspx')"
   ]
  },
  {
   "cell_type": "code",
   "execution_count": 260,
   "metadata": {},
   "outputs": [],
   "source": [
    "\n",
    "# time.sleep(1)\n",
    "\n",
    "driver.get('https://www.centrodeportivosmp.es/')\n",
    "\n",
    "padel_button =driver.find_element_by_xpath('//*[@id=\"top-menu\"]/li[6]')\n",
    "padel_button.click()\n",
    "padel_button = driver.find_element_by_xpath('//*[@id=\"top-menu\"]/li[6]/ul/li[1]')\n",
    "\n",
    "padel_button.click()\n",
    "\n",
    "user_input = driver.find_element_by_id('ctl00_ContentPlaceHolderContenido_Login1_UserName')\n",
    "user_input.send_keys(u_padel)\n",
    "\n",
    "pass_input = driver.find_element_by_id('ctl00_ContentPlaceHolderContenido_Login1_Password')\n",
    "pass_input.send_keys(p_padel)\n",
    "\n",
    "enter_button = driver.find_element_by_id('ctl00_ContentPlaceHolderContenido_Login1_LoginButton')\n",
    "\n",
    "enter_button.click()\n",
    "\n",
    "\n",
    "\n",
    "\n",
    "# print(enter_button.get_property(\"value\"))\n",
    "# print(pass_input.get_property(\"placeholder\"))\n"
   ]
  },
  {
   "cell_type": "code",
   "execution_count": 261,
   "metadata": {},
   "outputs": [],
   "source": [
    "rev_button = driver.find_element_by_id('ctl00_ctl00_ContentPlaceHolderContenido_WUCMenuLateralIzquierdaIntranet_LabelMenuReservasBuscador')\n",
    "rev_button.click()\n",
    "\n",
    "\n",
    "\n"
   ]
  },
  {
   "cell_type": "code",
   "execution_count": 262,
   "metadata": {},
   "outputs": [
    {
     "name": "stdout",
     "output_type": "stream",
     "text": [
      "Viernes, 9 Abril, 2021\n",
      "Viernes, 16 Abril, 2021\n",
      "Viernes, 16 Abril, 2021\n"
     ]
    }
   ],
   "source": [
    "fecha=driver.find_element_by_id('fechaTabla')\n",
    "\n",
    "manana = driver.find_element_by_xpath('//*[@id=\"tablaReserva\"]/div[2]/div[2]/div[1]/div[3]/input[3]')\n",
    "\n",
    "print(fecha.get_property(\"value\"))\n",
    "manana.click()\n",
    "manana.click()\n",
    "manana.click()\n",
    "manana.click()\n",
    "manana.click()\n",
    "manana.click()\n",
    "manana.click()\n",
    "#quitar esto para probra\n",
    "print(fecha.get_property(\"value\"))\n",
    "\n",
    "while 'viernes' not in fecha.get_property(\"value\").lower():\n",
    "    time.sleep(5)\n",
    "    manana.click()\n",
    "\n",
    "\n",
    "\n",
    "print(fecha.get_property(\"value\"))"
   ]
  },
  {
   "cell_type": "code",
   "execution_count": 263,
   "metadata": {},
   "outputs": [
    {
     "name": "stdout",
     "output_type": "stream",
     "text": [
      "Viernes, 16 Abril, 2021\n"
     ]
    }
   ],
   "source": [
    "print(fecha.get_property(\"value\"))"
   ]
  },
  {
   "cell_type": "code",
   "execution_count": 264,
   "metadata": {},
   "outputs": [
    {
     "name": "stdout",
     "output_type": "stream",
     "text": [
      "Portal - Reservas - Horario Reservas\n"
     ]
    }
   ],
   "source": [
    "print(driver.title)"
   ]
  },
  {
   "cell_type": "code",
   "execution_count": 265,
   "metadata": {},
   "outputs": [
    {
     "name": "stdout",
     "output_type": "stream",
     "text": [
      "None\n",
      "Fri Apr 16 2021 14:06:00 GMT+0200 (Central European Summer Time)\n"
     ]
    }
   ],
   "source": [
    "\n",
    "reser=driver.find_element_by_id('CuerpoTabla')\n",
    "\n",
    "\n",
    "print(reser.get_property(\"time\"))\n",
    "print(reser.get_attribute(\"time\"))\n",
    "\n",
    "\n"
   ]
  },
  {
   "cell_type": "code",
   "execution_count": 266,
   "metadata": {},
   "outputs": [],
   "source": [
    "reser=driver.find_elements_by_class_name('subDivision.plantilla.buttonHora')\n",
    "\n",
    "pista_14=[]\n",
    "pista_1430=[]\n",
    "# x.get_attribute(\"columna\")== '4'\n",
    "\n",
    "for x in reser:\n",
    "    if x.get_attribute(\"time\")== '09:00':\n",
    "            pista_14.append(x)\n",
    "            \n",
    "for x in reser:\n",
    "    if x.get_attribute(\"time\")== '14:30':\n",
    "            pista_1430.append(x)\n",
    "     \n",
    " "
   ]
  },
  {
   "cell_type": "code",
   "execution_count": 267,
   "metadata": {},
   "outputs": [
    {
     "name": "stdout",
     "output_type": "stream",
     "text": [
      "09:00 1\n",
      "09:00 2\n",
      "09:00 3\n",
      "09:00 4\n",
      "09:00 5\n",
      "09:00 6\n"
     ]
    }
   ],
   "source": [
    "pistas=['1','2','3','4','5','6']\n",
    "pista_dic_14={}\n",
    "for x in pista_14:\n",
    "    for y in pistas:\n",
    "        if x.get_attribute(\"columna\")==y:\n",
    "            pista_dic_14['pista_'+str(y)]=x\n",
    "        \n",
    "        \n",
    "        \n",
    "        \n",
    "# for x in pista_1430:\n",
    "#     if x.get_attribute(\"columna\")== '4':\n",
    "#         pista2=x     \n",
    "pista_1=pista_dic_14['pista_1']\n",
    "pista_2=pista_dic_14['pista_2']\n",
    "pista_3=pista_dic_14['pista_3']\n",
    "pista_4=pista_dic_14['pista_4']\n",
    "pista_5=pista_dic_14['pista_5']\n",
    "pista_6=pista_dic_14['pista_6']\n",
    "print(f'{pista_1.get_attribute(\"time\")} {pista_1.get_attribute(\"columna\")}')\n",
    "print(f'{pista_2.get_attribute(\"time\")} {pista_2.get_attribute(\"columna\")}')\n",
    "print(f'{pista_3.get_attribute(\"time\")} {pista_3.get_attribute(\"columna\")}')\n",
    "print(f'{pista_4.get_attribute(\"time\")} {pista_4.get_attribute(\"columna\")}')\n",
    "print(f'{pista_5.get_attribute(\"time\")} {pista_5.get_attribute(\"columna\")}')\n",
    "print(f'{pista_6.get_attribute(\"time\")} {pista_6.get_attribute(\"columna\")}')"
   ]
  },
  {
   "cell_type": "code",
   "execution_count": 275,
   "metadata": {},
   "outputs": [
    {
     "data": {
      "text/plain": [
       "[<selenium.webdriver.firefox.webelement.FirefoxWebElement (session=\"3355616f-0b84-4ec5-834d-bb46af6183f8\", element=\"047dd0cd-2917-4dcc-a7da-cf8ff8ab24d8\")>,\n",
       " <selenium.webdriver.firefox.webelement.FirefoxWebElement (session=\"3355616f-0b84-4ec5-834d-bb46af6183f8\", element=\"eda5d448-c7b5-4fda-bf0c-ce3588133445\")>,\n",
       " <selenium.webdriver.firefox.webelement.FirefoxWebElement (session=\"3355616f-0b84-4ec5-834d-bb46af6183f8\", element=\"1ed1106b-41a7-409e-8096-13b2e5bf281a\")>,\n",
       " <selenium.webdriver.firefox.webelement.FirefoxWebElement (session=\"3355616f-0b84-4ec5-834d-bb46af6183f8\", element=\"2f7b8cdc-543d-42a1-b06a-262644e2b939\")>,\n",
       " <selenium.webdriver.firefox.webelement.FirefoxWebElement (session=\"3355616f-0b84-4ec5-834d-bb46af6183f8\", element=\"be1cad61-9233-420f-846b-3e11001f8d9a\")>,\n",
       " <selenium.webdriver.firefox.webelement.FirefoxWebElement (session=\"3355616f-0b84-4ec5-834d-bb46af6183f8\", element=\"39529d50-afd5-4550-bc6e-52e43dc5f6dc\")>]"
      ]
     },
     "execution_count": 275,
     "metadata": {},
     "output_type": "execute_result"
    }
   ],
   "source": [
    "# pista.click()\n",
    "pista_14"
   ]
  },
  {
   "cell_type": "code",
   "execution_count": 269,
   "metadata": {},
   "outputs": [
    {
     "name": "stdout",
     "output_type": "stream",
     "text": [
      "Padel 3 Cubierta (Cubierta) 16/4/2021 9:00\n",
      "1\n",
      "[<selenium.webdriver.firefox.webelement.FirefoxWebElement (session=\"3355616f-0b84-4ec5-834d-bb46af6183f8\", element=\"4d8402df-4b55-42d4-90b7-e541c04f96f1\")>]\n"
     ]
    }
   ],
   "source": [
    "pista_3.click()\n",
    "\n",
    "g=driver.find_element_by_id('ui-id-1')\n",
    "print(g.get_attribute('innerHTML'))\n",
    "\n",
    "opt=driver.find_elements_by_class_name('btnTiempo')\n",
    "opt_text=driver.find_elements_by_class_name('buttonHoraTxt')\n",
    "print(len(opt))\n",
    "print(opt)\n"
   ]
  },
  {
   "cell_type": "code",
   "execution_count": 271,
   "metadata": {},
   "outputs": [
    {
     "name": "stdout",
     "output_type": "stream",
     "text": [
      "Cerrar\n"
     ]
    }
   ],
   "source": [
    "print(opt_text[0].text)\n",
    "# print(opt_text[1].text)\n",
    "# print(opt_text[2].text)"
   ]
  },
  {
   "cell_type": "code",
   "execution_count": 194,
   "metadata": {},
   "outputs": [
    {
     "name": "stdout",
     "output_type": "stream",
     "text": [
      "pista bien\n",
      "FINAL\n"
     ]
    }
   ],
   "source": [
    "try:  \n",
    "    pista_3.click()\n",
    "    opt=driver.find_elements_by_class_name('btnTiempo')\n",
    "    opt_text=driver.find_elements_by_class_name('buttonHoraTxt')\n",
    "    if opt_text[0].text == 'Cerrar' :\n",
    "        opt[0].click()\n",
    "        pista_4.click()\n",
    "        opt=driver.find_elements_by_class_name('btnTiempo')\n",
    "        opt_text=driver.find_elements_by_class_name('buttonHoraTxt')\n",
    "        \n",
    "        if opt_text[0].text == 'Cerrar' :\n",
    "            opt[0].click()\n",
    "            pista_5.click()\n",
    "            opt=driver.find_elements_by_class_name('btnTiempo')\n",
    "            opt_text=driver.find_elements_by_class_name('buttonHoraTxt')\n",
    "\n",
    "        else:\n",
    "            driver.find_element_by_id('terminos').click()\n",
    "            opt[0].click()   \n",
    "            \n",
    "            if opt_text[0].text == 'Cerrar' :\n",
    "                opt[0].click()\n",
    "                pista_6.click()\n",
    "                opt=driver.find_elements_by_class_name('btnTiempo')\n",
    "                opt_text=driver.find_elements_by_class_name('buttonHoraTxt')\n",
    "\n",
    "                \n",
    "                if opt_text[0].text == 'Cerrar' :\n",
    "                    opt[0].click()\n",
    "                    pista_1.click()\n",
    "                    opt=driver.find_elements_by_class_name('btnTiempo')\n",
    "                    opt_text=driver.find_elements_by_class_name('buttonHoraTxt')\n",
    "                    \n",
    "\n",
    "                    \n",
    "                    if opt_text[0].text == 'Cerrar' :\n",
    "                        opt[0].click()\n",
    "                        pista_2.click()\n",
    "                        opt=driver.find_elements_by_class_name('btnTiempo')\n",
    "                        opt_text=driver.find_elements_by_class_name('buttonHoraTxt')\n",
    "\n",
    "                        if opt_text[0].text == 'Cerrar' :\n",
    "                            opt[0].click()\n",
    "\n",
    "        \n",
    "        \n",
    "        \n",
    "        \n",
    "    else:\n",
    "        driver.find_element_by_id('terminos').click()\n",
    "        opt[0].click()         \n",
    "        \n",
    "        \n",
    "        \n",
    "\n",
    "        \n",
    "except ElementClickInterceptedException:  # salvo si hay error\n",
    "    print('ERROR') \n",
    "    \n",
    "    \n",
    "else:  # ejecutar cuando no hay error\n",
    "    print('pista bien')\n",
    "finally:  # ejecutar siempre\n",
    "    print('FINAL')\n",
    "\n",
    "\n",
    "\n",
    "\n",
    "\n",
    "\n",
    "\n",
    "    \n",
    "    \n",
    "    \n",
    "    \n",
    "\n"
   ]
  },
  {
   "cell_type": "code",
   "execution_count": 125,
   "metadata": {},
   "outputs": [
    {
     "name": "stdout",
     "output_type": "stream",
     "text": [
      "20 20\n",
      "200 20\n",
      "20 50\n"
     ]
    }
   ],
   "source": [
    "\n",
    "pista.click()\n",
    "\n",
    "minu=driver.find_elements_by_class_name('btnTiempo')\n",
    "\n",
    "for x in minu:\n",
    "    print(f'{x.get_attribute(\"x\")} {x.get_attribute(\"y\")}')"
   ]
  },
  {
   "cell_type": "code",
   "execution_count": 81,
   "metadata": {},
   "outputs": [
    {
     "name": "stdout",
     "output_type": "stream",
     "text": [
      "17:00-18:00\n"
     ]
    }
   ],
   "source": [
    "fecha2=driver.find_element_by_id('event_6160')\n",
    "print(fecha2.get_attribute(\"time\"))"
   ]
  },
  {
   "cell_type": "code",
   "execution_count": 29,
   "metadata": {},
   "outputs": [
    {
     "name": "stdout",
     "output_type": "stream",
     "text": [
      "yea\n"
     ]
    }
   ],
   "source": [
    "\n",
    "if 'jueves' not in h:\n",
    "    print('yea')\n",
    "else:\n",
    "    print('puta')\n",
    "\n"
   ]
  },
  {
   "cell_type": "code",
   "execution_count": null,
   "metadata": {},
   "outputs": [],
   "source": [
    "time.sleep(5)\n",
    "\n",
    "\n",
    "\n",
    "\n"
   ]
  },
  {
   "cell_type": "code",
   "execution_count": 44,
   "metadata": {},
   "outputs": [
    {
     "name": "stdout",
     "output_type": "stream",
     "text": [
      "Portal - Reservas - Horario Reservas\n"
     ]
    }
   ],
   "source": [
    "print(driver.title)"
   ]
  },
  {
   "cell_type": "code",
   "execution_count": null,
   "metadata": {},
   "outputs": [],
   "source": []
  },
  {
   "cell_type": "code",
   "execution_count": null,
   "metadata": {},
   "outputs": [],
   "source": []
  },
  {
   "cell_type": "code",
   "execution_count": null,
   "metadata": {},
   "outputs": [],
   "source": []
  },
  {
   "cell_type": "code",
   "execution_count": null,
   "metadata": {},
   "outputs": [],
   "source": []
  }
 ],
 "metadata": {
  "kernelspec": {
   "display_name": "Python [conda env:sentiment_env]",
   "language": "python",
   "name": "conda-env-sentiment_env-py"
  },
  "language_info": {
   "codemirror_mode": {
    "name": "ipython",
    "version": 3
   },
   "file_extension": ".py",
   "mimetype": "text/x-python",
   "name": "python",
   "nbconvert_exporter": "python",
   "pygments_lexer": "ipython3",
   "version": "3.7.9"
  }
 },
 "nbformat": 4,
 "nbformat_minor": 4
}
