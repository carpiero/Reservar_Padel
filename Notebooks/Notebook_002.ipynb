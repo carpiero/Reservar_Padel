{
 "cells": [
  {
   "cell_type": "code",
   "execution_count": null,
   "metadata": {},
   "outputs": [],
   "source": [
    "# pistas=['1','2','3','4','5','6']\n",
    "# pista_dic_14={}\n",
    "# for x in pista_14:\n",
    "#     for y in pistas:\n",
    "#         if x.get_attribute(\"columna\")==y:\n",
    "#             pista_dic_14['pista_'+str(y)]=x\n",
    "        \n",
    "        \n",
    "        \n",
    "        \n",
    "# # for x in pista_1430:\n",
    "# #     if x.get_attribute(\"columna\")== '4':\n",
    "# #         pista2=x     \n",
    "# pista_1=pista_dic_14['pista_1']\n",
    "# pista_2=pista_dic_14['pista_2']\n",
    "# pista_3=pista_dic_14['pista_3']\n",
    "# pista_4=pista_dic_14['pista_4']\n",
    "# pista_5=pista_dic_14['pista_5']\n",
    "# pista_6=pista_dic_14['pista_6']\n",
    "# print(f'{pista_1.get_attribute(\"time\")} {pista_1.get_attribute(\"columna\")}')\n",
    "# print(f'{pista_2.get_attribute(\"time\")} {pista_2.get_attribute(\"columna\")}')\n",
    "# print(f'{pista_3.get_attribute(\"time\")} {pista_3.get_attribute(\"columna\")}')\n",
    "# print(f'{pista_4.get_attribute(\"time\")} {pista_4.get_attribute(\"columna\")}')\n",
    "# print(f'{pista_5.get_attribute(\"time\")} {pista_5.get_attribute(\"columna\")}')\n",
    "# print(f'{pista_6.get_attribute(\"time\")} {pista_6.get_attribute(\"columna\")}')"
   ]
  },
  {
   "cell_type": "code",
   "execution_count": null,
   "metadata": {},
   "outputs": [],
   "source": [
    "try:  \n",
    "    pista_3.click()\n",
    "    opt=driver.find_elements_by_class_name('btnTiempo')\n",
    "    opt_text=driver.find_elements_by_class_name('buttonHoraTxt')\n",
    "    if opt_text[0].text == 'Cerrar' :\n",
    "        opt[0].click()\n",
    "        pista_4.click()\n",
    "        opt=driver.find_elements_by_class_name('btnTiempo')\n",
    "        opt_text=driver.find_elements_by_class_name('buttonHoraTxt')\n",
    "        \n",
    "        if opt_text[0].text == 'Cerrar' :\n",
    "            opt[0].click()\n",
    "            pista_5.click()\n",
    "            opt=driver.find_elements_by_class_name('btnTiempo')\n",
    "            opt_text=driver.find_elements_by_class_name('buttonHoraTxt')\n",
    "\n",
    "        else:\n",
    "            driver.find_element_by_id('terminos').click()\n",
    "            opt[0].click()   \n",
    "            \n",
    "            if opt_text[0].text == 'Cerrar' :\n",
    "                opt[0].click()\n",
    "                pista_6.click()\n",
    "                opt=driver.find_elements_by_class_name('btnTiempo')\n",
    "                opt_text=driver.find_elements_by_class_name('buttonHoraTxt')\n",
    "\n",
    "                \n",
    "                if opt_text[0].text == 'Cerrar' :\n",
    "                    opt[0].click()\n",
    "                    pista_1.click()\n",
    "                    opt=driver.find_elements_by_class_name('btnTiempo')\n",
    "                    opt_text=driver.find_elements_by_class_name('buttonHoraTxt')\n",
    "                    \n",
    "\n",
    "                    \n",
    "                    if opt_text[0].text == 'Cerrar' :\n",
    "                        opt[0].click()\n",
    "                        pista_2.click()\n",
    "                        opt=driver.find_elements_by_class_name('btnTiempo')\n",
    "                        opt_text=driver.find_elements_by_class_name('buttonHoraTxt')\n",
    "\n",
    "                        if opt_text[0].text == 'Cerrar' :\n",
    "                            opt[0].click()\n",
    "\n",
    "        \n",
    "        \n",
    "        \n",
    "        \n",
    "    else:\n",
    "        driver.find_element_by_id('terminos').click()\n",
    "        opt[0].click()         \n",
    "        \n",
    "        \n",
    "        \n",
    "\n",
    "        \n",
    "except ElementClickInterceptedException:  # salvo si hay error\n",
    "    print('ERROR') \n",
    "    \n",
    "    \n",
    "else:  # ejecutar cuando no hay error\n",
    "    print('pista bien')\n",
    "finally:  # ejecutar siempre\n",
    "    print('FINAL')\n"
   ]
  },
  {
   "cell_type": "code",
   "execution_count": null,
   "metadata": {},
   "outputs": [],
   "source": [
    "# pista_3.click()\n",
    "\n",
    "# g=driver.find_element_by_id('ui-id-1')\n",
    "# print(g.get_attribute('innerHTML'))\n",
    "\n",
    "# opt=driver.find_elements_by_class_name('btnTiempo')\n",
    "# opt_text=driver.find_elements_by_class_name('buttonHoraTxt')\n",
    "# print(len(opt))\n",
    "# print(opt)"
   ]
  },
  {
   "cell_type": "code",
   "execution_count": null,
   "metadata": {},
   "outputs": [],
   "source": [
    "# WebDriverWait(driver, 10).until(EC.element_to_be_clickable((By.ID, 'CuerpoTabla')))\n",
    "# pista_h1[0].click()\n",
    "# opt=driver.find_elements_by_class_name('btnTiempo')\n",
    "# opt_text=driver.find_elements_by_class_name('buttonHoraTxt')\n",
    "# WebDriverWait(driver, 10).until(EC.element_to_be_clickable((By.ID, 'reserva')))\n",
    "# print(opt_text[0].text)"
   ]
  },
  {
   "cell_type": "code",
   "execution_count": null,
   "metadata": {},
   "outputs": [],
   "source": []
  },
  {
   "cell_type": "code",
   "execution_count": null,
   "metadata": {},
   "outputs": [],
   "source": []
  },
  {
   "cell_type": "code",
   "execution_count": null,
   "metadata": {},
   "outputs": [],
   "source": []
  },
  {
   "cell_type": "code",
   "execution_count": null,
   "metadata": {},
   "outputs": [],
   "source": []
  }
 ],
 "metadata": {
  "kernelspec": {
   "display_name": "Python [conda env:iron]",
   "language": "python",
   "name": "conda-env-iron-py"
  },
  "language_info": {
   "codemirror_mode": {
    "name": "ipython",
    "version": 3
   },
   "file_extension": ".py",
   "mimetype": "text/x-python",
   "name": "python",
   "nbconvert_exporter": "python",
   "pygments_lexer": "ipython3",
   "version": "3.7.7"
  }
 },
 "nbformat": 4,
 "nbformat_minor": 4
}
